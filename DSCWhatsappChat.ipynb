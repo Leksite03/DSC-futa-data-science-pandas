{
  "nbformat": 4,
  "nbformat_minor": 0,
  "metadata": {
    "colab": {
      "name": "DSCWhatsappChat.ipynb",
      "provenance": [],
      "collapsed_sections": []
    },
    "kernelspec": {
      "name": "python3",
      "display_name": "Python 3"
    }
  },
  "cells": [
    {
      "cell_type": "code",
      "metadata": {
        "id": "dVm4EjdJ0eg6"
      },
      "source": [
        "import pandas as pd\n",
        "import matplotlib.pyplot as plt\n",
        "import seaborn as sb"
      ],
      "execution_count": 1,
      "outputs": []
    },
    {
      "cell_type": "code",
      "metadata": {
        "id": "0Rtzndw30k0k"
      },
      "source": [
        "from google.colab import files"
      ],
      "execution_count": 2,
      "outputs": []
    },
    {
      "cell_type": "code",
      "metadata": {
        "id": "N9Foy1dN0qiV",
        "outputId": "c826b672-a42a-4cd8-d6bd-157e3f06e624",
        "colab": {
          "resources": {
            "http://localhost:8080/nbextensions/google.colab/files.js": {
              "data": "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",
              "ok": true,
              "headers": [
                [
                  "content-type",
                  "application/javascript"
                ]
              ],
              "status": 200,
              "status_text": "OK"
            }
          },
          "base_uri": "https://localhost:8080/",
          "height": 75
        }
      },
      "source": [
        "uploaded=files.upload()"
      ],
      "execution_count": 3,
      "outputs": [
        {
          "output_type": "display_data",
          "data": {
            "text/html": [
              "\n",
              "     <input type=\"file\" id=\"files-fb255e42-7120-4975-aff0-f421020e76aa\" name=\"files[]\" multiple disabled\n",
              "        style=\"border:none\" />\n",
              "     <output id=\"result-fb255e42-7120-4975-aff0-f421020e76aa\">\n",
              "      Upload widget is only available when the cell has been executed in the\n",
              "      current browser session. Please rerun this cell to enable.\n",
              "      </output>\n",
              "      <script src=\"/nbextensions/google.colab/files.js\"></script> "
            ],
            "text/plain": [
              "<IPython.core.display.HTML object>"
            ]
          },
          "metadata": {
            "tags": []
          }
        },
        {
          "output_type": "stream",
          "text": [
            "Saving DSC Whatsapp Chat.txt to DSC Whatsapp Chat.txt\n"
          ],
          "name": "stdout"
        }
      ]
    },
    {
      "cell_type": "code",
      "metadata": {
        "id": "wG2Njz3J0vYz",
        "outputId": "d20366d4-cc7e-4bc7-899a-b93a6e9f80c3",
        "colab": {
          "base_uri": "https://localhost:8080/",
          "height": 55
        }
      },
      "source": [
        "file_name='DSC Whatsapp Chat.txt'\n",
        "df=pd.read_csv(file_name,header=None,error_bad_lines=False,encoding='utf8')"
      ],
      "execution_count": 4,
      "outputs": [
        {
          "output_type": "stream",
          "text": [
            "b'Skipping line 15: expected 2 fields, saw 6\\nSkipping line 19: expected 2 fields, saw 3\\nSkipping line 46: expected 2 fields, saw 3\\nSkipping line 54: expected 2 fields, saw 6\\nSkipping line 55: expected 2 fields, saw 3\\nSkipping line 63: expected 2 fields, saw 3\\nSkipping line 65: expected 2 fields, saw 3\\nSkipping line 83: expected 2 fields, saw 3\\nSkipping line 87: expected 2 fields, saw 3\\nSkipping line 102: expected 2 fields, saw 3\\nSkipping line 117: expected 2 fields, saw 3\\nSkipping line 119: expected 2 fields, saw 3\\nSkipping line 146: expected 2 fields, saw 4\\nSkipping line 166: expected 2 fields, saw 3\\nSkipping line 171: expected 2 fields, saw 3\\nSkipping line 190: expected 2 fields, saw 4\\nSkipping line 201: expected 2 fields, saw 3\\nSkipping line 207: expected 2 fields, saw 3\\nSkipping line 252: expected 2 fields, saw 5\\nSkipping line 262: expected 2 fields, saw 3\\nSkipping line 264: expected 2 fields, saw 3\\nSkipping line 281: expected 2 fields, saw 3\\nSkipping line 415: expected 2 fields, saw 3\\nSkipping line 423: expected 2 fields, saw 3\\nSkipping line 441: expected 2 fields, saw 3\\nSkipping line 475: expected 2 fields, saw 3\\nSkipping line 495: expected 2 fields, saw 3\\nSkipping line 515: expected 2 fields, saw 4\\nSkipping line 517: expected 2 fields, saw 3\\nSkipping line 529: expected 2 fields, saw 3\\nSkipping line 560: expected 2 fields, saw 3\\nSkipping line 562: expected 2 fields, saw 3\\nSkipping line 570: expected 2 fields, saw 3\\nSkipping line 584: expected 2 fields, saw 3\\nSkipping line 601: expected 2 fields, saw 3\\nSkipping line 606: expected 2 fields, saw 3\\nSkipping line 608: expected 2 fields, saw 4\\nSkipping line 659: expected 2 fields, saw 3\\nSkipping line 662: expected 2 fields, saw 6\\nSkipping line 673: expected 2 fields, saw 3\\nSkipping line 678: expected 2 fields, saw 3\\nSkipping line 692: expected 2 fields, saw 3\\nSkipping line 712: expected 2 fields, saw 3\\nSkipping line 773: expected 2 fields, saw 3\\nSkipping line 779: expected 2 fields, saw 3\\nSkipping line 824: expected 2 fields, saw 3\\nSkipping line 852: expected 2 fields, saw 3\\nSkipping line 857: expected 2 fields, saw 3\\nSkipping line 860: expected 2 fields, saw 3\\nSkipping line 862: expected 2 fields, saw 9\\nSkipping line 863: expected 2 fields, saw 9\\nSkipping line 874: expected 2 fields, saw 4\\nSkipping line 877: expected 2 fields, saw 3\\nSkipping line 878: expected 2 fields, saw 22\\nSkipping line 891: expected 2 fields, saw 3\\nSkipping line 893: expected 2 fields, saw 5\\nSkipping line 905: expected 2 fields, saw 3\\nSkipping line 908: expected 2 fields, saw 3\\nSkipping line 911: expected 2 fields, saw 3\\nSkipping line 912: expected 2 fields, saw 3\\nSkipping line 913: expected 2 fields, saw 3\\nSkipping line 917: expected 2 fields, saw 3\\nSkipping line 927: expected 2 fields, saw 3\\nSkipping line 930: expected 2 fields, saw 3\\nSkipping line 946: expected 2 fields, saw 3\\nSkipping line 952: expected 2 fields, saw 6\\nSkipping line 953: expected 2 fields, saw 5\\nSkipping line 954: expected 2 fields, saw 7\\nSkipping line 955: expected 2 fields, saw 5\\nSkipping line 962: expected 2 fields, saw 3\\nSkipping line 978: expected 2 fields, saw 3\\nSkipping line 979: expected 2 fields, saw 4\\nSkipping line 988: expected 2 fields, saw 3\\nSkipping line 989: expected 2 fields, saw 4\\nSkipping line 997: expected 2 fields, saw 3\\nSkipping line 998: expected 2 fields, saw 4\\nSkipping line 1004: expected 2 fields, saw 3\\nSkipping line 1005: expected 2 fields, saw 4\\nSkipping line 1012: expected 2 fields, saw 4\\nSkipping line 1019: expected 2 fields, saw 4\\nSkipping line 1020: expected 2 fields, saw 10\\nSkipping line 1021: expected 2 fields, saw 4\\nSkipping line 1024: expected 2 fields, saw 5\\nSkipping line 1025: expected 2 fields, saw 4\\nSkipping line 1027: expected 2 fields, saw 4\\nSkipping line 1031: expected 2 fields, saw 4\\nSkipping line 1032: expected 2 fields, saw 4\\nSkipping line 1033: expected 2 fields, saw 3\\nSkipping line 1037: expected 2 fields, saw 4\\nSkipping line 1040: expected 2 fields, saw 3\\nSkipping line 1202: expected 2 fields, saw 3\\nSkipping line 1214: expected 2 fields, saw 3\\nSkipping line 1216: expected 2 fields, saw 3\\nSkipping line 1238: expected 2 fields, saw 3\\nSkipping line 1371: expected 2 fields, saw 3\\nSkipping line 1372: expected 2 fields, saw 3\\nSkipping line 1491: expected 2 fields, saw 3\\nSkipping line 1496: expected 2 fields, saw 3\\nSkipping line 1559: expected 2 fields, saw 3\\nSkipping line 1577: expected 2 fields, saw 5\\nSkipping line 1582: expected 2 fields, saw 3\\nSkipping line 1588: expected 2 fields, saw 3\\nSkipping line 1600: expected 2 fields, saw 3\\nSkipping line 1602: expected 2 fields, saw 3\\nSkipping line 1604: expected 2 fields, saw 3\\nSkipping line 1615: expected 2 fields, saw 3\\nSkipping line 1616: expected 2 fields, saw 3\\nSkipping line 1622: expected 2 fields, saw 3\\nSkipping line 1624: expected 2 fields, saw 3\\nSkipping line 1626: expected 2 fields, saw 3\\nSkipping line 1634: expected 2 fields, saw 3\\nSkipping line 1635: expected 2 fields, saw 3\\nSkipping line 1639: expected 2 fields, saw 3\\nSkipping line 1640: expected 2 fields, saw 4\\nSkipping line 1647: expected 2 fields, saw 3\\nSkipping line 1650: expected 2 fields, saw 3\\nSkipping line 1711: expected 2 fields, saw 3\\nSkipping line 1739: expected 2 fields, saw 3\\nSkipping line 1741: expected 2 fields, saw 5\\nSkipping line 1742: expected 2 fields, saw 4\\nSkipping line 1743: expected 2 fields, saw 3\\nSkipping line 1748: expected 2 fields, saw 5\\nSkipping line 1749: expected 2 fields, saw 4\\nSkipping line 1750: expected 2 fields, saw 3\\nSkipping line 1756: expected 2 fields, saw 3\\nSkipping line 1757: expected 2 fields, saw 3\\nSkipping line 1758: expected 2 fields, saw 3\\nSkipping line 1759: expected 2 fields, saw 3\\nSkipping line 1765: expected 2 fields, saw 3\\nSkipping line 1766: expected 2 fields, saw 3\\nSkipping line 1768: expected 2 fields, saw 3\\nSkipping line 1778: expected 2 fields, saw 3\\nSkipping line 1782: expected 2 fields, saw 3\\nSkipping line 1803: expected 2 fields, saw 3\\nSkipping line 1808: expected 2 fields, saw 3\\nSkipping line 1819: expected 2 fields, saw 3\\nSkipping line 1826: expected 2 fields, saw 3\\nSkipping line 1842: expected 2 fields, saw 3\\nSkipping line 1869: expected 2 fields, saw 3\\nSkipping line 1902: expected 2 fields, saw 3\\nSkipping line 1972: expected 2 fields, saw 3\\nSkipping line 1974: expected 2 fields, saw 3\\nSkipping line 1976: expected 2 fields, saw 3\\nSkipping line 1990: expected 2 fields, saw 3\\nSkipping line 2004: expected 2 fields, saw 4\\nSkipping line 2017: expected 2 fields, saw 3\\nSkipping line 2031: expected 2 fields, saw 3\\nSkipping line 2120: expected 2 fields, saw 3\\nSkipping line 2162: expected 2 fields, saw 4\\nSkipping line 2166: expected 2 fields, saw 3\\nSkipping line 2184: expected 2 fields, saw 3\\nSkipping line 2195: expected 2 fields, saw 3\\nSkipping line 2202: expected 2 fields, saw 3\\nSkipping line 2205: expected 2 fields, saw 3\\nSkipping line 2213: expected 2 fields, saw 3\\nSkipping line 2256: expected 2 fields, saw 3\\nSkipping line 2257: expected 2 fields, saw 3\\nSkipping line 2307: expected 2 fields, saw 3\\nSkipping line 2317: expected 2 fields, saw 3\\nSkipping line 2342: expected 2 fields, saw 3\\nSkipping line 2509: expected 2 fields, saw 3\\nSkipping line 2529: expected 2 fields, saw 3\\nSkipping line 2535: expected 2 fields, saw 3\\nSkipping line 2544: expected 2 fields, saw 3\\nSkipping line 2564: expected 2 fields, saw 3\\nSkipping line 2606: expected 2 fields, saw 3\\nSkipping line 2612: expected 2 fields, saw 3\\nSkipping line 2613: expected 2 fields, saw 3\\nSkipping line 2620: expected 2 fields, saw 3\\nSkipping line 2651: expected 2 fields, saw 3\\nSkipping line 2664: expected 2 fields, saw 3\\nSkipping line 2682: expected 2 fields, saw 3\\nSkipping line 2684: expected 2 fields, saw 3\\nSkipping line 2694: expected 2 fields, saw 3\\nSkipping line 2770: expected 2 fields, saw 3\\nSkipping line 2774: expected 2 fields, saw 3\\nSkipping line 2780: expected 2 fields, saw 7\\nSkipping line 2792: expected 2 fields, saw 3\\nSkipping line 2796: expected 2 fields, saw 3\\nSkipping line 2827: expected 2 fields, saw 3\\nSkipping line 2850: expected 2 fields, saw 3\\nSkipping line 3265: expected 2 fields, saw 3\\nSkipping line 3297: expected 2 fields, saw 3\\nSkipping line 3313: expected 2 fields, saw 3\\nSkipping line 3348: expected 2 fields, saw 3\\nSkipping line 3394: expected 2 fields, saw 3\\nSkipping line 3395: expected 2 fields, saw 3\\nSkipping line 3396: expected 2 fields, saw 3\\nSkipping line 3402: expected 2 fields, saw 3\\nSkipping line 3408: expected 2 fields, saw 3\\nSkipping line 3428: expected 2 fields, saw 3\\nSkipping line 3460: expected 2 fields, saw 3\\nSkipping line 3507: expected 2 fields, saw 3\\nSkipping line 3610: expected 2 fields, saw 3\\nSkipping line 3642: expected 2 fields, saw 3\\nSkipping line 3644: expected 2 fields, saw 3\\nSkipping line 3656: expected 2 fields, saw 3\\nSkipping line 4080: expected 2 fields, saw 3\\nSkipping line 4086: expected 2 fields, saw 5\\nSkipping line 4179: expected 2 fields, saw 6\\nSkipping line 4196: expected 2 fields, saw 3\\nSkipping line 4200: expected 2 fields, saw 3\\nSkipping line 4241: expected 2 fields, saw 3\\nSkipping line 4245: expected 2 fields, saw 3\\nSkipping line 4248: expected 2 fields, saw 3\\nSkipping line 4329: expected 2 fields, saw 3\\nSkipping line 4338: expected 2 fields, saw 6\\nSkipping line 4344: expected 2 fields, saw 6\\nSkipping line 4356: expected 2 fields, saw 6\\nSkipping line 4362: expected 2 fields, saw 6\\nSkipping line 4374: expected 2 fields, saw 6\\nSkipping line 4399: expected 2 fields, saw 4\\nSkipping line 4420: expected 2 fields, saw 4\\nSkipping line 4432: expected 2 fields, saw 3\\nSkipping line 4434: expected 2 fields, saw 3\\nSkipping line 4437: expected 2 fields, saw 3\\nSkipping line 4442: expected 2 fields, saw 3\\nSkipping line 4450: expected 2 fields, saw 5\\nSkipping line 4452: expected 2 fields, saw 5\\nSkipping line 4824: expected 2 fields, saw 3\\nSkipping line 4838: expected 2 fields, saw 3\\nSkipping line 4914: expected 2 fields, saw 3\\nSkipping line 4929: expected 2 fields, saw 3\\nSkipping line 4949: expected 2 fields, saw 3\\nSkipping line 4961: expected 2 fields, saw 3\\nSkipping line 5131: expected 2 fields, saw 3\\nSkipping line 5161: expected 2 fields, saw 3\\nSkipping line 5177: expected 2 fields, saw 3\\nSkipping line 5199: expected 2 fields, saw 4\\nSkipping line 5202: expected 2 fields, saw 4\\nSkipping line 5203: expected 2 fields, saw 3\\nSkipping line 5212: expected 2 fields, saw 3\\nSkipping line 5314: expected 2 fields, saw 3\\nSkipping line 5361: expected 2 fields, saw 3\\nSkipping line 5416: expected 2 fields, saw 3\\nSkipping line 5425: expected 2 fields, saw 3\\nSkipping line 5433: expected 2 fields, saw 3\\nSkipping line 5481: expected 2 fields, saw 3\\nSkipping line 5498: expected 2 fields, saw 3\\nSkipping line 5516: expected 2 fields, saw 3\\nSkipping line 5565: expected 2 fields, saw 3\\nSkipping line 5575: expected 2 fields, saw 3\\nSkipping line 6009: expected 2 fields, saw 3\\nSkipping line 6038: expected 2 fields, saw 5\\nSkipping line 6082: expected 2 fields, saw 3\\nSkipping line 6139: expected 2 fields, saw 10\\nSkipping line 6151: expected 2 fields, saw 4\\nSkipping line 6266: expected 2 fields, saw 3\\nSkipping line 6438: expected 2 fields, saw 4\\nSkipping line 6446: expected 2 fields, saw 3\\nSkipping line 6517: expected 2 fields, saw 3\\nSkipping line 6529: expected 2 fields, saw 3\\nSkipping line 6578: expected 2 fields, saw 3\\nSkipping line 6598: expected 2 fields, saw 3\\nSkipping line 6641: expected 2 fields, saw 3\\nSkipping line 6647: expected 2 fields, saw 4\\nSkipping line 6675: expected 2 fields, saw 3\\nSkipping line 6684: expected 2 fields, saw 3\\nSkipping line 6689: expected 2 fields, saw 4\\nSkipping line 6702: expected 2 fields, saw 5\\nSkipping line 6734: expected 2 fields, saw 3\\nSkipping line 6737: expected 2 fields, saw 4\\nSkipping line 6746: expected 2 fields, saw 5\\nSkipping line 6763: expected 2 fields, saw 3\\nSkipping line 6840: expected 2 fields, saw 3\\nSkipping line 6851: expected 2 fields, saw 3\\nSkipping line 6881: expected 2 fields, saw 3\\nSkipping line 6896: expected 2 fields, saw 3\\nSkipping line 7252: expected 2 fields, saw 3\\nSkipping line 7259: expected 2 fields, saw 3\\nSkipping line 7269: expected 2 fields, saw 3\\nSkipping line 7308: expected 2 fields, saw 3\\nSkipping line 7416: expected 2 fields, saw 3\\nSkipping line 7449: expected 2 fields, saw 3\\nSkipping line 7673: expected 2 fields, saw 3\\nSkipping line 7680: expected 2 fields, saw 4\\nSkipping line 7682: expected 2 fields, saw 3\\nSkipping line 7712: expected 2 fields, saw 3\\nSkipping line 7890: expected 2 fields, saw 4\\nSkipping line 7918: expected 2 fields, saw 3\\nSkipping line 7937: expected 2 fields, saw 3\\nSkipping line 8065: expected 2 fields, saw 3\\nSkipping line 8101: expected 2 fields, saw 3\\nSkipping line 8133: expected 2 fields, saw 3\\nSkipping line 8144: expected 2 fields, saw 3\\nSkipping line 8146: expected 2 fields, saw 3\\nSkipping line 8147: expected 2 fields, saw 3\\nSkipping line 8149: expected 2 fields, saw 4\\nSkipping line 8170: expected 2 fields, saw 3\\nSkipping line 8174: expected 2 fields, saw 4\\nSkipping line 8203: expected 2 fields, saw 3\\nSkipping line 8206: expected 2 fields, saw 3\\nSkipping line 8220: expected 2 fields, saw 3\\nSkipping line 8224: expected 2 fields, saw 4\\nSkipping line 8229: expected 2 fields, saw 3\\nSkipping line 8239: expected 2 fields, saw 3\\nSkipping line 8252: expected 2 fields, saw 4\\nSkipping line 8261: expected 2 fields, saw 3\\nSkipping line 8264: expected 2 fields, saw 3\\nSkipping line 8282: expected 2 fields, saw 3\\nSkipping line 8283: expected 2 fields, saw 3\\nSkipping line 8302: expected 2 fields, saw 3\\nSkipping line 8320: expected 2 fields, saw 4\\nSkipping line 8345: expected 2 fields, saw 3\\nSkipping line 8362: expected 2 fields, saw 3\\nSkipping line 8735: expected 2 fields, saw 3\\nSkipping line 8746: expected 2 fields, saw 3\\nSkipping line 8774: expected 2 fields, saw 3\\nSkipping line 8871: expected 2 fields, saw 4\\nSkipping line 8874: expected 2 fields, saw 3\\nSkipping line 8876: expected 2 fields, saw 3\\nSkipping line 8884: expected 2 fields, saw 3\\nSkipping line 8885: expected 2 fields, saw 3\\nSkipping line 8888: expected 2 fields, saw 3\\nSkipping line 8890: expected 2 fields, saw 3\\nSkipping line 8891: expected 2 fields, saw 3\\nSkipping line 8907: expected 2 fields, saw 3\\nSkipping line 8917: expected 2 fields, saw 4\\nSkipping line 8920: expected 2 fields, saw 4\\nSkipping line 8991: expected 2 fields, saw 4\\nSkipping line 8992: expected 2 fields, saw 4\\nSkipping line 8995: expected 2 fields, saw 3\\nSkipping line 9013: expected 2 fields, saw 3\\nSkipping line 9023: expected 2 fields, saw 3\\nSkipping line 9031: expected 2 fields, saw 3\\nSkipping line 9032: expected 2 fields, saw 4\\nSkipping line 9037: expected 2 fields, saw 4\\nSkipping line 9039: expected 2 fields, saw 3\\nSkipping line 9040: expected 2 fields, saw 3\\nSkipping line 9043: expected 2 fields, saw 3\\nSkipping line 9045: expected 2 fields, saw 3\\nSkipping line 9047: expected 2 fields, saw 4\\nSkipping line 9053: expected 2 fields, saw 7\\nSkipping line 9060: expected 2 fields, saw 3\\nSkipping line 9065: expected 2 fields, saw 3\\nSkipping line 9068: expected 2 fields, saw 3\\nSkipping line 9106: expected 2 fields, saw 3\\nSkipping line 9127: expected 2 fields, saw 3\\nSkipping line 9140: expected 2 fields, saw 3\\nSkipping line 9261: expected 2 fields, saw 4\\nSkipping line 9281: expected 2 fields, saw 3\\nSkipping line 9291: expected 2 fields, saw 4\\nSkipping line 9293: expected 2 fields, saw 3\\nSkipping line 9294: expected 2 fields, saw 3\\nSkipping line 9301: expected 2 fields, saw 3\\nSkipping line 9324: expected 2 fields, saw 3\\nSkipping line 9337: expected 2 fields, saw 3\\nSkipping line 9381: expected 2 fields, saw 3\\nSkipping line 9431: expected 2 fields, saw 3\\nSkipping line 9438: expected 2 fields, saw 3\\nSkipping line 9508: expected 2 fields, saw 3\\n'\n"
          ],
          "name": "stderr"
        }
      ]
    },
    {
      "cell_type": "code",
      "metadata": {
        "id": "_RuMK-6e070y"
      },
      "source": [
        "#We drop the first row of the dataset that has \"message encryption details\" which is not needed,we then name the col as 'Date' and 'Chat'\n",
        "df.drop([0,1,2],inplace=True)\n",
        "df.columns=['Date','Chat']\n",
        "#we eliminate the Nan values\n",
        "df.dropna(inplace=True)"
      ],
      "execution_count": 5,
      "outputs": []
    },
    {
      "cell_type": "code",
      "metadata": {
        "id": "nKbq8Cqh1BlL"
      },
      "source": [
        "Message=df['Chat'].str.split(\"-\",n=1,expand=True)"
      ],
      "execution_count": 6,
      "outputs": []
    },
    {
      "cell_type": "code",
      "metadata": {
        "id": "4FLw5f5h1Hkw"
      },
      "source": [
        "#From the dataset 'Chat' col has time,person name and message in the same col\n",
        "#So we create the 'time' and 'text' col which is generated from the chat col\n",
        "df['Time']=Message[0]\n",
        "df['Text']=Message[1]"
      ],
      "execution_count": 7,
      "outputs": []
    },
    {
      "cell_type": "code",
      "metadata": {
        "id": "TBJIKHnJ1Lu3"
      },
      "source": [
        "#The 'text' col creates another dataset because it consist of the chat person name and message,so we split it using ':' \n",
        "Message1=df['Text'].str.split(':',n=1,expand=True)"
      ],
      "execution_count": 8,
      "outputs": []
    },
    {
      "cell_type": "code",
      "metadata": {
        "id": "Sga-MSFW1QAd"
      },
      "source": [
        "#so we now create a text col that contains only message and name col which contains name of the chat person and respective messages\n",
        "df['Text']=Message1[1]\n",
        "df['Name']=Message1[0]"
      ],
      "execution_count": 9,
      "outputs": []
    },
    {
      "cell_type": "code",
      "metadata": {
        "id": "XJU5Zn2t1WjD"
      },
      "source": [
        "#Now we delete the chat col and convert all the text to lower case for simplicity\n",
        "df=df.drop(columns=['Chat'])\n",
        "df['Text']=df['Text'].str.lower()"
      ],
      "execution_count": 10,
      "outputs": []
    },
    {
      "cell_type": "code",
      "metadata": {
        "id": "eYJ9xkaM1esj"
      },
      "source": [
        "df=df[['Date','Time','Name','Text']]"
      ],
      "execution_count": 11,
      "outputs": []
    },
    {
      "cell_type": "code",
      "metadata": {
        "id": "Lod9bj491ieQ"
      },
      "source": [
        "df['Text']=df['Text'].str.replace('< media omitted>','MediaShared')\n",
        "df['Text']=df['Text'].str.replace('this message was deleted','DeletedMsg')"
      ],
      "execution_count": 15,
      "outputs": []
    },
    {
      "cell_type": "code",
      "metadata": {
        "id": "yfbYdjv51n4p",
        "outputId": "b54ceeaf-8ecf-4d45-cb6b-5b9ceeea22e0",
        "colab": {
          "base_uri": "https://localhost:8080/",
          "height": 54
        }
      },
      "source": [
        "#The person that sent the most message \n",
        "df['Name'].value_counts().head(1)\n"
      ],
      "execution_count": 17,
      "outputs": [
        {
          "output_type": "execute_result",
          "data": {
            "text/plain": [
              " Success DSC    1525\n",
              "Name: Name, dtype: int64"
            ]
          },
          "metadata": {
            "tags": []
          },
          "execution_count": 17
        }
      ]
    },
    {
      "cell_type": "code",
      "metadata": {
        "id": "Pg4XlTxD13yX"
      },
      "source": [
        "#to determine the person that sent most message for each month\n",
        "df['Months']=df['Date'].str.split('/',expand=True)[1]\n",
        "df=df[['Date','Months','Time','Name','Text']]\n",
        "mon=df.groupby(['Months','Name'])\n",
        "mon=mon.count()"
      ],
      "execution_count": 38,
      "outputs": []
    },
    {
      "cell_type": "code",
      "metadata": {
        "id": "okrDdrOQ3bRC",
        "outputId": "355b57c0-1d4d-4365-81b6-e211dfac6ff1",
        "colab": {
          "base_uri": "https://localhost:8080/",
          "height": 1000
        }
      },
      "source": [
        "mon.sort_values(['Text','Months','Name'],ascending=False)\n",
        "#The list of the messages sent by each person in the month of august and september\n"
      ],
      "execution_count": 43,
      "outputs": [
        {
          "output_type": "execute_result",
          "data": {
            "text/html": [
              "<div>\n",
              "<style scoped>\n",
              "    .dataframe tbody tr th:only-of-type {\n",
              "        vertical-align: middle;\n",
              "    }\n",
              "\n",
              "    .dataframe tbody tr th {\n",
              "        vertical-align: top;\n",
              "    }\n",
              "\n",
              "    .dataframe thead th {\n",
              "        text-align: right;\n",
              "    }\n",
              "</style>\n",
              "<table border=\"1\" class=\"dataframe\">\n",
              "  <thead>\n",
              "    <tr style=\"text-align: right;\">\n",
              "      <th></th>\n",
              "      <th></th>\n",
              "      <th>Date</th>\n",
              "      <th>Time</th>\n",
              "      <th>Text</th>\n",
              "    </tr>\n",
              "    <tr>\n",
              "      <th>Months</th>\n",
              "      <th>Name</th>\n",
              "      <th></th>\n",
              "      <th></th>\n",
              "      <th></th>\n",
              "    </tr>\n",
              "  </thead>\n",
              "  <tbody>\n",
              "    <tr>\n",
              "      <th rowspan=\"10\" valign=\"top\">09</th>\n",
              "      <th>Success DSC</th>\n",
              "      <td>1452</td>\n",
              "      <td>1452</td>\n",
              "      <td>1452</td>\n",
              "    </tr>\n",
              "    <tr>\n",
              "      <th>khok-maw'🚀</th>\n",
              "      <td>966</td>\n",
              "      <td>966</td>\n",
              "      <td>966</td>\n",
              "    </tr>\n",
              "    <tr>\n",
              "      <th>Ire</th>\n",
              "      <td>601</td>\n",
              "      <td>601</td>\n",
              "      <td>601</td>\n",
              "    </tr>\n",
              "    <tr>\n",
              "      <th>RehobothEEE</th>\n",
              "      <td>336</td>\n",
              "      <td>336</td>\n",
              "      <td>336</td>\n",
              "    </tr>\n",
              "    <tr>\n",
              "      <th>‎Reserve DSC</th>\n",
              "      <td>332</td>\n",
              "      <td>332</td>\n",
              "      <td>332</td>\n",
              "    </tr>\n",
              "    <tr>\n",
              "      <th>Lateef DSC</th>\n",
              "      <td>267</td>\n",
              "      <td>267</td>\n",
              "      <td>267</td>\n",
              "    </tr>\n",
              "    <tr>\n",
              "      <th>+234 905 635 7349</th>\n",
              "      <td>200</td>\n",
              "      <td>200</td>\n",
              "      <td>200</td>\n",
              "    </tr>\n",
              "    <tr>\n",
              "      <th>+234 902 590 5787</th>\n",
              "      <td>119</td>\n",
              "      <td>119</td>\n",
              "      <td>119</td>\n",
              "    </tr>\n",
              "    <tr>\n",
              "      <th>Sir Fuad</th>\n",
              "      <td>112</td>\n",
              "      <td>112</td>\n",
              "      <td>112</td>\n",
              "    </tr>\n",
              "    <tr>\n",
              "      <th>Avogrado</th>\n",
              "      <td>105</td>\n",
              "      <td>105</td>\n",
              "      <td>105</td>\n",
              "    </tr>\n",
              "    <tr>\n",
              "      <th rowspan=\"2\" valign=\"top\">08</th>\n",
              "      <th>Ire</th>\n",
              "      <td>103</td>\n",
              "      <td>103</td>\n",
              "      <td>103</td>\n",
              "    </tr>\n",
              "    <tr>\n",
              "      <th>+234 701 095 0358</th>\n",
              "      <td>89</td>\n",
              "      <td>89</td>\n",
              "      <td>89</td>\n",
              "    </tr>\n",
              "    <tr>\n",
              "      <th>09</th>\n",
              "      <th>+234 701 095 0358</th>\n",
              "      <td>86</td>\n",
              "      <td>86</td>\n",
              "      <td>86</td>\n",
              "    </tr>\n",
              "    <tr>\n",
              "      <th rowspan=\"2\" valign=\"top\">08</th>\n",
              "      <th>Success DSC</th>\n",
              "      <td>73</td>\n",
              "      <td>73</td>\n",
              "      <td>73</td>\n",
              "    </tr>\n",
              "    <tr>\n",
              "      <th>Lateef DSC</th>\n",
              "      <td>63</td>\n",
              "      <td>63</td>\n",
              "      <td>63</td>\n",
              "    </tr>\n",
              "    <tr>\n",
              "      <th>09</th>\n",
              "      <th>Mosope DSC</th>\n",
              "      <td>55</td>\n",
              "      <td>55</td>\n",
              "      <td>55</td>\n",
              "    </tr>\n",
              "    <tr>\n",
              "      <th>08</th>\n",
              "      <th>khok-maw'🚀</th>\n",
              "      <td>40</td>\n",
              "      <td>40</td>\n",
              "      <td>40</td>\n",
              "    </tr>\n",
              "    <tr>\n",
              "      <th>09</th>\n",
              "      <th>+234 706 749 2346</th>\n",
              "      <td>36</td>\n",
              "      <td>36</td>\n",
              "      <td>36</td>\n",
              "    </tr>\n",
              "    <tr>\n",
              "      <th>08</th>\n",
              "      <th>+234 903 836 8530</th>\n",
              "      <td>34</td>\n",
              "      <td>34</td>\n",
              "      <td>34</td>\n",
              "    </tr>\n",
              "    <tr>\n",
              "      <th>09</th>\n",
              "      <th>Nifemi DSC</th>\n",
              "      <td>30</td>\n",
              "      <td>30</td>\n",
              "      <td>30</td>\n",
              "    </tr>\n",
              "    <tr>\n",
              "      <th>08</th>\n",
              "      <th>Avogrado</th>\n",
              "      <td>25</td>\n",
              "      <td>25</td>\n",
              "      <td>25</td>\n",
              "    </tr>\n",
              "    <tr>\n",
              "      <th>09</th>\n",
              "      <th>Engr Dee</th>\n",
              "      <td>23</td>\n",
              "      <td>23</td>\n",
              "      <td>23</td>\n",
              "    </tr>\n",
              "    <tr>\n",
              "      <th>08</th>\n",
              "      <th>+234 902 590 5787</th>\n",
              "      <td>22</td>\n",
              "      <td>22</td>\n",
              "      <td>22</td>\n",
              "    </tr>\n",
              "    <tr>\n",
              "      <th>09</th>\n",
              "      <th>Triumph DSC</th>\n",
              "      <td>19</td>\n",
              "      <td>19</td>\n",
              "      <td>19</td>\n",
              "    </tr>\n",
              "    <tr>\n",
              "      <th>08</th>\n",
              "      <th>RehobothEEE</th>\n",
              "      <td>18</td>\n",
              "      <td>18</td>\n",
              "      <td>18</td>\n",
              "    </tr>\n",
              "    <tr>\n",
              "      <th>09</th>\n",
              "      <th>+234 903 836 8530</th>\n",
              "      <td>17</td>\n",
              "      <td>17</td>\n",
              "      <td>17</td>\n",
              "    </tr>\n",
              "    <tr>\n",
              "      <th rowspan=\"6\" valign=\"top\">08</th>\n",
              "      <th>Triumph DSC</th>\n",
              "      <td>16</td>\n",
              "      <td>16</td>\n",
              "      <td>16</td>\n",
              "    </tr>\n",
              "    <tr>\n",
              "      <th>Nifemi DSC</th>\n",
              "      <td>16</td>\n",
              "      <td>16</td>\n",
              "      <td>16</td>\n",
              "    </tr>\n",
              "    <tr>\n",
              "      <th>‎Reserve DSC</th>\n",
              "      <td>9</td>\n",
              "      <td>9</td>\n",
              "      <td>9</td>\n",
              "    </tr>\n",
              "    <tr>\n",
              "      <th>+234 905 635 7349</th>\n",
              "      <td>9</td>\n",
              "      <td>9</td>\n",
              "      <td>9</td>\n",
              "    </tr>\n",
              "    <tr>\n",
              "      <th>Engr Dee</th>\n",
              "      <td>5</td>\n",
              "      <td>5</td>\n",
              "      <td>5</td>\n",
              "    </tr>\n",
              "    <tr>\n",
              "      <th>+234 706 749 2346</th>\n",
              "      <td>4</td>\n",
              "      <td>4</td>\n",
              "      <td>4</td>\n",
              "    </tr>\n",
              "    <tr>\n",
              "      <th>09</th>\n",
              "      <th>+234 906 639 9274</th>\n",
              "      <td>2</td>\n",
              "      <td>2</td>\n",
              "      <td>2</td>\n",
              "    </tr>\n",
              "    <tr>\n",
              "      <th rowspan=\"2\" valign=\"top\">08</th>\n",
              "      <th>Sir Fuad</th>\n",
              "      <td>2</td>\n",
              "      <td>2</td>\n",
              "      <td>2</td>\n",
              "    </tr>\n",
              "    <tr>\n",
              "      <th>Mosope DSC</th>\n",
              "      <td>1</td>\n",
              "      <td>1</td>\n",
              "      <td>1</td>\n",
              "    </tr>\n",
              "  </tbody>\n",
              "</table>\n",
              "</div>"
            ],
            "text/plain": [
              "                           Date  Time  Text\n",
              "Months Name                                \n",
              "09      Success DSC        1452  1452  1452\n",
              "        khok-maw'🚀          966   966   966\n",
              "        Ire                 601   601   601\n",
              "        RehobothEEE         336   336   336\n",
              "        ‎Reserve DSC        332   332   332\n",
              "        Lateef DSC          267   267   267\n",
              "        +234 905 635 7349   200   200   200\n",
              "        +234 902 590 5787   119   119   119\n",
              "        Sir Fuad            112   112   112\n",
              "        Avogrado            105   105   105\n",
              "08      Ire                 103   103   103\n",
              "        +234 701 095 0358    89    89    89\n",
              "09      +234 701 095 0358    86    86    86\n",
              "08      Success DSC          73    73    73\n",
              "        Lateef DSC           63    63    63\n",
              "09      Mosope DSC           55    55    55\n",
              "08      khok-maw'🚀           40    40    40\n",
              "09      +234 706 749 2346    36    36    36\n",
              "08      +234 903 836 8530    34    34    34\n",
              "09      Nifemi DSC           30    30    30\n",
              "08      Avogrado             25    25    25\n",
              "09      Engr Dee             23    23    23\n",
              "08      +234 902 590 5787    22    22    22\n",
              "09      Triumph DSC          19    19    19\n",
              "08      RehobothEEE          18    18    18\n",
              "09      +234 903 836 8530    17    17    17\n",
              "08      Triumph DSC          16    16    16\n",
              "        Nifemi DSC           16    16    16\n",
              "        ‎Reserve DSC          9     9     9\n",
              "        +234 905 635 7349     9     9     9\n",
              "        Engr Dee              5     5     5\n",
              "        +234 706 749 2346     4     4     4\n",
              "09      +234 906 639 9274     2     2     2\n",
              "08      Sir Fuad              2     2     2\n",
              "        Mosope DSC            1     1     1"
            ]
          },
          "metadata": {
            "tags": []
          },
          "execution_count": 43
        }
      ]
    },
    {
      "cell_type": "code",
      "metadata": {
        "id": "AP5vuaor4E0x",
        "outputId": "2b645d5c-b933-47da-ec85-d88014eb2e88",
        "colab": {
          "base_uri": "https://localhost:8080/",
          "height": 112
        }
      },
      "source": [
        "#The person that sent the most message in the month of september is Success DSC with 1452 messages\n",
        "mon[mon['Text']==1452]"
      ],
      "execution_count": 49,
      "outputs": [
        {
          "output_type": "execute_result",
          "data": {
            "text/html": [
              "<div>\n",
              "<style scoped>\n",
              "    .dataframe tbody tr th:only-of-type {\n",
              "        vertical-align: middle;\n",
              "    }\n",
              "\n",
              "    .dataframe tbody tr th {\n",
              "        vertical-align: top;\n",
              "    }\n",
              "\n",
              "    .dataframe thead th {\n",
              "        text-align: right;\n",
              "    }\n",
              "</style>\n",
              "<table border=\"1\" class=\"dataframe\">\n",
              "  <thead>\n",
              "    <tr style=\"text-align: right;\">\n",
              "      <th></th>\n",
              "      <th></th>\n",
              "      <th>Date</th>\n",
              "      <th>Time</th>\n",
              "      <th>Text</th>\n",
              "    </tr>\n",
              "    <tr>\n",
              "      <th>Months</th>\n",
              "      <th>Name</th>\n",
              "      <th></th>\n",
              "      <th></th>\n",
              "      <th></th>\n",
              "    </tr>\n",
              "  </thead>\n",
              "  <tbody>\n",
              "    <tr>\n",
              "      <th>09</th>\n",
              "      <th>Success DSC</th>\n",
              "      <td>1452</td>\n",
              "      <td>1452</td>\n",
              "      <td>1452</td>\n",
              "    </tr>\n",
              "  </tbody>\n",
              "</table>\n",
              "</div>"
            ],
            "text/plain": [
              "                     Date  Time  Text\n",
              "Months Name                          \n",
              "09      Success DSC  1452  1452  1452"
            ]
          },
          "metadata": {
            "tags": []
          },
          "execution_count": 49
        }
      ]
    },
    {
      "cell_type": "code",
      "metadata": {
        "id": "XB6djb9p5IR5",
        "outputId": "f45c4577-289a-4e25-d322-25c7ddd489b0",
        "colab": {
          "base_uri": "https://localhost:8080/",
          "height": 112
        }
      },
      "source": [
        "#The person that sent the most message in the month of august is Ire with 103 messages\n",
        "mon[mon['Text']==103]"
      ],
      "execution_count": 50,
      "outputs": [
        {
          "output_type": "execute_result",
          "data": {
            "text/html": [
              "<div>\n",
              "<style scoped>\n",
              "    .dataframe tbody tr th:only-of-type {\n",
              "        vertical-align: middle;\n",
              "    }\n",
              "\n",
              "    .dataframe tbody tr th {\n",
              "        vertical-align: top;\n",
              "    }\n",
              "\n",
              "    .dataframe thead th {\n",
              "        text-align: right;\n",
              "    }\n",
              "</style>\n",
              "<table border=\"1\" class=\"dataframe\">\n",
              "  <thead>\n",
              "    <tr style=\"text-align: right;\">\n",
              "      <th></th>\n",
              "      <th></th>\n",
              "      <th>Date</th>\n",
              "      <th>Time</th>\n",
              "      <th>Text</th>\n",
              "    </tr>\n",
              "    <tr>\n",
              "      <th>Months</th>\n",
              "      <th>Name</th>\n",
              "      <th></th>\n",
              "      <th></th>\n",
              "      <th></th>\n",
              "    </tr>\n",
              "  </thead>\n",
              "  <tbody>\n",
              "    <tr>\n",
              "      <th>08</th>\n",
              "      <th>Ire</th>\n",
              "      <td>103</td>\n",
              "      <td>103</td>\n",
              "      <td>103</td>\n",
              "    </tr>\n",
              "  </tbody>\n",
              "</table>\n",
              "</div>"
            ],
            "text/plain": [
              "             Date  Time  Text\n",
              "Months Name                  \n",
              "08      Ire   103   103   103"
            ]
          },
          "metadata": {
            "tags": []
          },
          "execution_count": 50
        }
      ]
    },
    {
      "cell_type": "code",
      "metadata": {
        "id": "3VDYMVOB6cFD"
      },
      "source": [
        "#To drop the nan values present\n",
        "df.dropna(inplace=True)\n",
        "#To reset the index\n",
        "df.reset_index(inplace=True)"
      ],
      "execution_count": 55,
      "outputs": []
    },
    {
      "cell_type": "code",
      "metadata": {
        "id": "pjZi6tFdBSlk",
        "outputId": "a22af8fb-f3a7-419d-b051-010fc6681f7a",
        "colab": {
          "base_uri": "https://localhost:8080/",
          "height": 363
        }
      },
      "source": [
        "#The first 10 rows of the dataframe\n",
        "df.head(10)"
      ],
      "execution_count": 53,
      "outputs": [
        {
          "output_type": "execute_result",
          "data": {
            "text/html": [
              "<div>\n",
              "<style scoped>\n",
              "    .dataframe tbody tr th:only-of-type {\n",
              "        vertical-align: middle;\n",
              "    }\n",
              "\n",
              "    .dataframe tbody tr th {\n",
              "        vertical-align: top;\n",
              "    }\n",
              "\n",
              "    .dataframe thead th {\n",
              "        text-align: right;\n",
              "    }\n",
              "</style>\n",
              "<table border=\"1\" class=\"dataframe\">\n",
              "  <thead>\n",
              "    <tr style=\"text-align: right;\">\n",
              "      <th></th>\n",
              "      <th>level_0</th>\n",
              "      <th>index</th>\n",
              "      <th>Date</th>\n",
              "      <th>Months</th>\n",
              "      <th>Time</th>\n",
              "      <th>Name</th>\n",
              "      <th>Text</th>\n",
              "    </tr>\n",
              "  </thead>\n",
              "  <tbody>\n",
              "    <tr>\n",
              "      <th>0</th>\n",
              "      <td>0</td>\n",
              "      <td>0</td>\n",
              "      <td>26/08/2020</td>\n",
              "      <td>08</td>\n",
              "      <td>8:52 pm</td>\n",
              "      <td>Engr Dee</td>\n",
              "      <td>okay guys</td>\n",
              "    </tr>\n",
              "    <tr>\n",
              "      <th>1</th>\n",
              "      <td>1</td>\n",
              "      <td>1</td>\n",
              "      <td>26/08/2020</td>\n",
              "      <td>08</td>\n",
              "      <td>9:28 pm</td>\n",
              "      <td>Nifemi DSC</td>\n",
              "      <td>ok</td>\n",
              "    </tr>\n",
              "    <tr>\n",
              "      <th>2</th>\n",
              "      <td>2</td>\n",
              "      <td>2</td>\n",
              "      <td>26/08/2020</td>\n",
              "      <td>08</td>\n",
              "      <td>9:30 pm</td>\n",
              "      <td>RehobothEEE</td>\n",
              "      <td>yes sir</td>\n",
              "    </tr>\n",
              "    <tr>\n",
              "      <th>3</th>\n",
              "      <td>3</td>\n",
              "      <td>3</td>\n",
              "      <td>26/08/2020</td>\n",
              "      <td>08</td>\n",
              "      <td>11:37 pm</td>\n",
              "      <td>Mosope DSC</td>\n",
              "      <td>@mo_sopefoluwa</td>\n",
              "    </tr>\n",
              "    <tr>\n",
              "      <th>4</th>\n",
              "      <td>4</td>\n",
              "      <td>4</td>\n",
              "      <td>27/08/2020</td>\n",
              "      <td>08</td>\n",
              "      <td>12:46 am</td>\n",
              "      <td>+234 701 095 0358</td>\n",
              "      <td>please i need help urgently 🙏...how do i go a...</td>\n",
              "    </tr>\n",
              "    <tr>\n",
              "      <th>5</th>\n",
              "      <td>5</td>\n",
              "      <td>5</td>\n",
              "      <td>27/08/2020</td>\n",
              "      <td>08</td>\n",
              "      <td>12:47 am</td>\n",
              "      <td>khok-maw'🚀</td>\n",
              "      <td>pip --upgrade pip or so</td>\n",
              "    </tr>\n",
              "    <tr>\n",
              "      <th>6</th>\n",
              "      <td>6</td>\n",
              "      <td>6</td>\n",
              "      <td>27/08/2020</td>\n",
              "      <td>08</td>\n",
              "      <td>12:48 am</td>\n",
              "      <td>khok-maw'🚀</td>\n",
              "      <td>pip install --upgrade pip</td>\n",
              "    </tr>\n",
              "    <tr>\n",
              "      <th>7</th>\n",
              "      <td>7</td>\n",
              "      <td>7</td>\n",
              "      <td>27/08/2020</td>\n",
              "      <td>08</td>\n",
              "      <td>12:51 am</td>\n",
              "      <td>+234 701 095 0358</td>\n",
              "      <td>that my pip is already in 20.2.2</td>\n",
              "    </tr>\n",
              "    <tr>\n",
              "      <th>8</th>\n",
              "      <td>8</td>\n",
              "      <td>8</td>\n",
              "      <td>27/08/2020</td>\n",
              "      <td>08</td>\n",
              "      <td>12:53 am</td>\n",
              "      <td>khok-maw'🚀</td>\n",
              "      <td>&lt;media omitted&gt;</td>\n",
              "    </tr>\n",
              "    <tr>\n",
              "      <th>9</th>\n",
              "      <td>9</td>\n",
              "      <td>9</td>\n",
              "      <td>27/08/2020</td>\n",
              "      <td>08</td>\n",
              "      <td>12:55 am</td>\n",
              "      <td>+234 701 095 0358</td>\n",
              "      <td>bro i'm also confused too...even google self ...</td>\n",
              "    </tr>\n",
              "  </tbody>\n",
              "</table>\n",
              "</div>"
            ],
            "text/plain": [
              "   level_0  ...                                               Text\n",
              "0        0  ...                                         okay guys \n",
              "1        1  ...                                                 ok\n",
              "2        2  ...                                            yes sir\n",
              "3        3  ...                                     @mo_sopefoluwa\n",
              "4        4  ...   please i need help urgently 🙏...how do i go a...\n",
              "5        5  ...                            pip --upgrade pip or so\n",
              "6        6  ...                          pip install --upgrade pip\n",
              "7        7  ...                   that my pip is already in 20.2.2\n",
              "8        8  ...                                    <media omitted>\n",
              "9        9  ...   bro i'm also confused too...even google self ...\n",
              "\n",
              "[10 rows x 7 columns]"
            ]
          },
          "metadata": {
            "tags": []
          },
          "execution_count": 53
        }
      ]
    },
    {
      "cell_type": "code",
      "metadata": {
        "id": "fk_T-WZsB7ru",
        "outputId": "640c1ed7-ee92-4604-d052-570d19b0dc3c",
        "colab": {
          "base_uri": "https://localhost:8080/",
          "height": 462
        }
      },
      "source": [
        "#Visualizing the total messages sent by each person using seaborn displot\n",
        "sb.displot(y=df['Name'],color='g')"
      ],
      "execution_count": 61,
      "outputs": [
        {
          "output_type": "stream",
          "text": [
            "/usr/local/lib/python3.6/dist-packages/matplotlib/backends/backend_agg.py:214: RuntimeWarning: Glyph 128640 missing from current font.\n",
            "  font.set_text(s, 0.0, flags=flags)\n"
          ],
          "name": "stderr"
        },
        {
          "output_type": "execute_result",
          "data": {
            "text/plain": [
              "<seaborn.axisgrid.FacetGrid at 0x7fa269994cc0>"
            ]
          },
          "metadata": {
            "tags": []
          },
          "execution_count": 61
        },
        {
          "output_type": "stream",
          "text": [
            "/usr/local/lib/python3.6/dist-packages/matplotlib/backends/backend_agg.py:183: RuntimeWarning: Glyph 128640 missing from current font.\n",
            "  font.set_text(s, 0, flags=flags)\n"
          ],
          "name": "stderr"
        },
        {
          "output_type": "display_data",
          "data": {
            "image/png": "[encoded data removed]",
            "text/plain": [
              "<Figure size 360x360 with 1 Axes>"
            ]
          },
          "metadata": {
            "tags": [],
            "needs_background": "light"
          }
        }
      ]
    },
    {
      "cell_type": "code",
      "metadata": {
        "id": "kQsLNUGWEL3P"
      },
      "source": [
        ""
      ],
      "execution_count": null,
      "outputs": []
    }
  ]
}